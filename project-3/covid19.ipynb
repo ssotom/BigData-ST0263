{
  "nbformat": 4,
  "nbformat_minor": 0,
  "metadata": {
    "colab": {
      "name": "covid19.ipynb",
      "provenance": [],
      "collapsed_sections": [],
      "toc_visible": true,
      "authorship_tag": "ABX9TyOSSje73FlwpreCGDZbnTYN",
      "include_colab_link": true
    },
    "kernelspec": {
      "name": "python3",
      "display_name": "Python 3"
    }
  },
  "cells": [
    {
      "cell_type": "markdown",
      "metadata": {
        "id": "view-in-github",
        "colab_type": "text"
      },
      "source": [
        "<a href=\"https://colab.research.google.com/github/ssotom/st0263-bigdata/blob/master/project-3/covid19.ipynb\" target=\"_parent\"><img src=\"https://colab.research.google.com/assets/colab-badge.svg\" alt=\"Open In Colab\"/></a>"
      ]
    },
    {
      "cell_type": "markdown",
      "metadata": {
        "id": "k7Zn1a6V7_cS",
        "colab_type": "text"
      },
      "source": [
        "# Dependencies"
      ]
    },
    {
      "cell_type": "code",
      "metadata": {
        "id": "rpEj2w0fKsPJ",
        "colab_type": "code",
        "colab": {}
      },
      "source": [
        "!apt-get install openjdk-8-jdk-headless -qq > /dev/null\n",
        "!wget -q https://downloads.apache.org/spark/spark-2.4.5/spark-2.4.5-bin-hadoop2.6.tgz\n",
        "!tar xf spark-2.4.5-bin-hadoop2.6.tgz\n",
        "!pip install -q findspark"
      ],
      "execution_count": 0,
      "outputs": []
    },
    {
      "cell_type": "code",
      "metadata": {
        "id": "JCAE0O4tK7g3",
        "colab_type": "code",
        "colab": {}
      },
      "source": [
        "import os\n",
        "os.environ[\"JAVA_HOME\"] = \"/usr/lib/jvm/java-8-openjdk-amd64\"\n",
        "os.environ[\"SPARK_HOME\"] = \"/content/spark-2.4.5-bin-hadoop2.6\"\n",
        "\n",
        "import findspark\n",
        "findspark.init()\n",
        "\n",
        "from pyspark.sql import SparkSession\n",
        "spark = SparkSession.builder.master(\"local[*]\").getOrCreate()\n",
        "sc = spark.sparkContext"
      ],
      "execution_count": 0,
      "outputs": []
    },
    {
      "cell_type": "code",
      "metadata": {
        "id": "4ucsKUO3ggqQ",
        "colab_type": "code",
        "colab": {}
      },
      "source": [
        "# Import some libraries\n",
        "import pandas as pd\n",
        "import matplotlib.pyplot as plt"
      ],
      "execution_count": 0,
      "outputs": []
    },
    {
      "cell_type": "markdown",
      "metadata": {
        "id": "QXvUYE0UB-P5",
        "colab_type": "text"
      },
      "source": [
        "# Global"
      ]
    },
    {
      "cell_type": "markdown",
      "metadata": {
        "id": "KqNQmMbbZvD5",
        "colab_type": "text"
      },
      "source": [
        "## Confirmed cases"
      ]
    },
    {
      "cell_type": "code",
      "metadata": {
        "id": "tG2urJUhK_HD",
        "colab_type": "code",
        "outputId": "35f055fb-67f2-4662-c380-b1934e66ff6a",
        "colab": {
          "base_uri": "https://localhost:8080/",
          "height": 204
        }
      },
      "source": [
        "!wget https://raw.githubusercontent.com/CSSEGISandData/COVID-19/master/csse_covid_19_data/csse_covid_19_time_series/time_series_covid19_confirmed_global.csv"
      ],
      "execution_count": 4,
      "outputs": [
        {
          "output_type": "stream",
          "text": [
            "--2020-05-13 22:17:16--  https://raw.githubusercontent.com/CSSEGISandData/COVID-19/master/csse_covid_19_data/csse_covid_19_time_series/time_series_covid19_confirmed_global.csv\n",
            "Resolving raw.githubusercontent.com (raw.githubusercontent.com)... 151.101.0.133, 151.101.64.133, 151.101.128.133, ...\n",
            "Connecting to raw.githubusercontent.com (raw.githubusercontent.com)|151.101.0.133|:443... connected.\n",
            "HTTP request sent, awaiting response... 200 OK\n",
            "Length: 101161 (99K) [text/plain]\n",
            "Saving to: ‘time_series_covid19_confirmed_global.csv’\n",
            "\n",
            "\r          time_seri   0%[                    ]       0  --.-KB/s               \rtime_series_covid19 100%[===================>]  98.79K  --.-KB/s    in 0.04s   \n",
            "\n",
            "2020-05-13 22:17:16 (2.60 MB/s) - ‘time_series_covid19_confirmed_global.csv’ saved [101161/101161]\n",
            "\n"
          ],
          "name": "stdout"
        }
      ]
    },
    {
      "cell_type": "code",
      "metadata": {
        "id": "VkaFImvQOkHA",
        "colab_type": "code",
        "outputId": "f2113949-8581-48cd-9af7-274835cbe912",
        "colab": {
          "base_uri": "https://localhost:8080/",
          "height": 241
        }
      },
      "source": [
        "# Load csv Dataset \n",
        "confirmed_global = spark.read.csv('/content/time_series_covid19_confirmed_global.csv', inferSchema=True, header=True)\n",
        "# Shape of dataset\n",
        "print((confirmed_global.count(), len(confirmed_global.columns)))\n",
        "# Fisrt few rows of dataframe\n",
        "confirmed_global.show(5)"
      ],
      "execution_count": 5,
      "outputs": [
        {
          "output_type": "stream",
          "text": [
            "(266, 116)\n",
            "+--------------+--------------+--------+-------+-------+-------+-------+-------+-------+-------+-------+-------+-------+-------+------+------+------+------+------+------+------+------+------+-------+-------+-------+-------+-------+-------+-------+-------+-------+-------+-------+-------+-------+-------+-------+-------+-------+-------+-------+-------+------+------+------+------+------+------+------+------+------+-------+-------+-------+-------+-------+-------+-------+-------+-------+-------+-------+-------+-------+-------+-------+-------+-------+-------+-------+-------+-------+-------+------+------+------+------+------+------+------+------+------+-------+-------+-------+-------+-------+-------+-------+-------+-------+-------+-------+-------+-------+-------+-------+-------+-------+-------+-------+-------+-------+------+------+------+------+------+------+------+------+------+-------+-------+-------+\n",
            "|Province/State|Country/Region|     Lat|   Long|1/22/20|1/23/20|1/24/20|1/25/20|1/26/20|1/27/20|1/28/20|1/29/20|1/30/20|1/31/20|2/1/20|2/2/20|2/3/20|2/4/20|2/5/20|2/6/20|2/7/20|2/8/20|2/9/20|2/10/20|2/11/20|2/12/20|2/13/20|2/14/20|2/15/20|2/16/20|2/17/20|2/18/20|2/19/20|2/20/20|2/21/20|2/22/20|2/23/20|2/24/20|2/25/20|2/26/20|2/27/20|2/28/20|2/29/20|3/1/20|3/2/20|3/3/20|3/4/20|3/5/20|3/6/20|3/7/20|3/8/20|3/9/20|3/10/20|3/11/20|3/12/20|3/13/20|3/14/20|3/15/20|3/16/20|3/17/20|3/18/20|3/19/20|3/20/20|3/21/20|3/22/20|3/23/20|3/24/20|3/25/20|3/26/20|3/27/20|3/28/20|3/29/20|3/30/20|3/31/20|4/1/20|4/2/20|4/3/20|4/4/20|4/5/20|4/6/20|4/7/20|4/8/20|4/9/20|4/10/20|4/11/20|4/12/20|4/13/20|4/14/20|4/15/20|4/16/20|4/17/20|4/18/20|4/19/20|4/20/20|4/21/20|4/22/20|4/23/20|4/24/20|4/25/20|4/26/20|4/27/20|4/28/20|4/29/20|4/30/20|5/1/20|5/2/20|5/3/20|5/4/20|5/5/20|5/6/20|5/7/20|5/8/20|5/9/20|5/10/20|5/11/20|5/12/20|\n",
            "+--------------+--------------+--------+-------+-------+-------+-------+-------+-------+-------+-------+-------+-------+-------+------+------+------+------+------+------+------+------+------+-------+-------+-------+-------+-------+-------+-------+-------+-------+-------+-------+-------+-------+-------+-------+-------+-------+-------+-------+-------+------+------+------+------+------+------+------+------+------+-------+-------+-------+-------+-------+-------+-------+-------+-------+-------+-------+-------+-------+-------+-------+-------+-------+-------+-------+-------+-------+-------+------+------+------+------+------+------+------+------+------+-------+-------+-------+-------+-------+-------+-------+-------+-------+-------+-------+-------+-------+-------+-------+-------+-------+-------+-------+-------+-------+------+------+------+------+------+------+------+------+------+-------+-------+-------+\n",
            "|          null|   Afghanistan|    33.0|   65.0|      0|      0|      0|      0|      0|      0|      0|      0|      0|      0|     0|     0|     0|     0|     0|     0|     0|     0|     0|      0|      0|      0|      0|      0|      0|      0|      0|      0|      0|      0|      0|      0|      0|      1|      1|      1|      1|      1|      1|     1|     1|     1|     1|     1|     1|     1|     4|     4|      5|      7|      7|      7|     11|     16|     21|     22|     22|     22|     24|     24|     40|     40|     74|     84|     94|    110|    110|    120|    170|    174|   237|   273|   281|   299|   349|   367|   423|   444|   484|    521|    555|    607|    665|    714|    784|    840|    906|    933|    996|   1026|   1092|   1176|   1279|   1351|   1463|   1531|   1703|   1828|   1939|   2171|  2335|  2469|  2704|  2894|  3224|  3392|  3563|  3778|  4033|   4402|   4687|   4963|\n",
            "|          null|       Albania| 41.1533|20.1683|      0|      0|      0|      0|      0|      0|      0|      0|      0|      0|     0|     0|     0|     0|     0|     0|     0|     0|     0|      0|      0|      0|      0|      0|      0|      0|      0|      0|      0|      0|      0|      0|      0|      0|      0|      0|      0|      0|      0|     0|     0|     0|     0|     0|     0|     0|     0|     2|     10|     12|     23|     33|     38|     42|     51|     55|     59|     64|     70|     76|     89|    104|    123|    146|    174|    186|    197|    212|    223|    243|   259|   277|   304|   333|   361|   377|   383|   400|   409|    416|    433|    446|    467|    475|    494|    518|    539|    548|    562|    584|    609|    634|    663|    678|    712|    726|    736|    750|    766|    773|   782|   789|   795|   803|   820|   832|   842|   850|   856|    868|    872|    876|\n",
            "|          null|       Algeria| 28.0339| 1.6596|      0|      0|      0|      0|      0|      0|      0|      0|      0|      0|     0|     0|     0|     0|     0|     0|     0|     0|     0|      0|      0|      0|      0|      0|      0|      0|      0|      0|      0|      0|      0|      0|      0|      0|      1|      1|      1|      1|      1|     1|     3|     5|    12|    12|    17|    17|    19|    20|     20|     20|     24|     26|     37|     48|     54|     60|     74|     87|     90|    139|    201|    230|    264|    302|    367|    409|    454|    511|    584|    716|   847|   986|  1171|  1251|  1320|  1423|  1468|  1572|  1666|   1761|   1825|   1914|   1983|   2070|   2160|   2268|   2418|   2534|   2629|   2718|   2811|   2910|   3007|   3127|   3256|   3382|   3517|   3649|   3848|   4006|  4154|  4295|  4474|  4648|  4838|  4997|  5182|  5369|  5558|   5723|   5891|   6067|\n",
            "|          null|       Andorra| 42.5063| 1.5218|      0|      0|      0|      0|      0|      0|      0|      0|      0|      0|     0|     0|     0|     0|     0|     0|     0|     0|     0|      0|      0|      0|      0|      0|      0|      0|      0|      0|      0|      0|      0|      0|      0|      0|      0|      0|      0|      0|      0|     0|     1|     1|     1|     1|     1|     1|     1|     1|      1|      1|      1|      1|      1|      1|      2|     39|     39|     53|     75|     88|    113|    133|    164|    188|    224|    267|    308|    334|    370|    376|   390|   428|   439|   466|   501|   525|   545|   564|   583|    601|    601|    638|    646|    659|    673|    673|    696|    704|    713|    717|    717|    723|    723|    731|    738|    738|    743|    743|    743|    745|   745|   747|   748|   750|   751|   751|   752|   752|   754|    755|    755|    758|\n",
            "|          null|        Angola|-11.2027|17.8739|      0|      0|      0|      0|      0|      0|      0|      0|      0|      0|     0|     0|     0|     0|     0|     0|     0|     0|     0|      0|      0|      0|      0|      0|      0|      0|      0|      0|      0|      0|      0|      0|      0|      0|      0|      0|      0|      0|      0|     0|     0|     0|     0|     0|     0|     0|     0|     0|      0|      0|      0|      0|      0|      0|      0|      0|      0|      0|      1|      2|      2|      3|      3|      3|      4|      4|      5|      7|      7|      7|     8|     8|     8|    10|    14|    16|    17|    19|    19|     19|     19|     19|     19|     19|     19|     19|     19|     24|     24|     24|     24|     25|     25|     25|     25|     26|     27|     27|     27|     27|    30|    35|    35|    35|    36|    36|    36|    43|    43|     45|     45|     45|\n",
            "+--------------+--------------+--------+-------+-------+-------+-------+-------+-------+-------+-------+-------+-------+-------+------+------+------+------+------+------+------+------+------+-------+-------+-------+-------+-------+-------+-------+-------+-------+-------+-------+-------+-------+-------+-------+-------+-------+-------+-------+-------+------+------+------+------+------+------+------+------+------+-------+-------+-------+-------+-------+-------+-------+-------+-------+-------+-------+-------+-------+-------+-------+-------+-------+-------+-------+-------+-------+-------+------+------+------+------+------+------+------+------+------+-------+-------+-------+-------+-------+-------+-------+-------+-------+-------+-------+-------+-------+-------+-------+-------+-------+-------+-------+-------+-------+------+------+------+------+------+------+------+------+------+-------+-------+-------+\n",
            "only showing top 5 rows\n",
            "\n"
          ],
          "name": "stdout"
        }
      ]
    },
    {
      "cell_type": "code",
      "metadata": {
        "id": "-Qvc9EFiSrBQ",
        "colab_type": "code",
        "outputId": "7358471e-f9f5-4303-eefb-c9da62cc6985",
        "colab": {
          "base_uri": "https://localhost:8080/",
          "height": 34
        }
      },
      "source": [
        "# Sum confirmed cases of all countries\n",
        "confirmed_global_last_day = confirmed_global.select(confirmed_global.columns[-1])\n",
        "confirmed_global_total = confirmed_global_last_day.groupBy().sum().collect()[0][0]\n",
        "print('Total confirmed global:', confirmed_global_total)"
      ],
      "execution_count": 6,
      "outputs": [
        {
          "output_type": "stream",
          "text": [
            "Total confirmed global: 4261747\n"
          ],
          "name": "stdout"
        }
      ]
    },
    {
      "cell_type": "code",
      "metadata": {
        "id": "UZUAC2peY7pz",
        "colab_type": "code",
        "outputId": "adbe3bde-ab66-431f-b792-e6f0513c9a04",
        "colab": {
          "base_uri": "https://localhost:8080/",
          "height": 390
        }
      },
      "source": [
        "confirmed_global_columns = confirmed_global.columns[4:]\n",
        "# Get sum of confirmed cases by day\n",
        "confirmed_global_2 = confirmed_global.select(confirmed_global_columns).groupBy().sum()\n",
        "\n",
        "# Dataframe to pandas\n",
        "confirmed_global_2_pandas = confirmed_global_2.toPandas()\n",
        "confirmed_global_2_pandas.columns = confirmed_global_columns\n",
        "confirmed_global_2_pandas = confirmed_global_2_pandas.T\n",
        "confirmed_global_2_pandas.index = pd.to_datetime(confirmed_global_2_pandas.index)\n",
        "\n",
        "# Plotting data\n",
        "plt.figure(1, figsize=(10,6))\n",
        "plt.plot(confirmed_global_2_pandas)\n",
        "plt.title('Confirmed cases accumulated (Global)')\n",
        "plt.show()"
      ],
      "execution_count": 7,
      "outputs": [
        {
          "output_type": "display_data",
          "data": {
            "image/png": "[encoded data removed]",
            "text/plain": [
              "<Figure size 720x432 with 1 Axes>"
            ]
          },
          "metadata": {
            "tags": [],
            "needs_background": "light"
          }
        }
      ]
    },
    {
      "cell_type": "markdown",
      "metadata": {
        "id": "6fmV0cZAabTj",
        "colab_type": "text"
      },
      "source": [
        "## Deaths"
      ]
    },
    {
      "cell_type": "code",
      "metadata": {
        "id": "FB3Wt3-capBx",
        "colab_type": "code",
        "outputId": "20423066-50b7-4fe5-983a-e428513ff19c",
        "colab": {
          "base_uri": "https://localhost:8080/",
          "height": 204
        }
      },
      "source": [
        "!wget https://raw.githubusercontent.com/CSSEGISandData/COVID-19/master/csse_covid_19_data/csse_covid_19_time_series/time_series_covid19_deaths_global.csv"
      ],
      "execution_count": 8,
      "outputs": [
        {
          "output_type": "stream",
          "text": [
            "--2020-05-13 22:17:36--  https://raw.githubusercontent.com/CSSEGISandData/COVID-19/master/csse_covid_19_data/csse_covid_19_time_series/time_series_covid19_deaths_global.csv\n",
            "Resolving raw.githubusercontent.com (raw.githubusercontent.com)... 151.101.0.133, 151.101.64.133, 151.101.128.133, ...\n",
            "Connecting to raw.githubusercontent.com (raw.githubusercontent.com)|151.101.0.133|:443... connected.\n",
            "HTTP request sent, awaiting response... 200 OK\n",
            "Length: 76759 (75K) [text/plain]\n",
            "Saving to: ‘time_series_covid19_deaths_global.csv’\n",
            "\n",
            "\r          time_seri   0%[                    ]       0  --.-KB/s               \rtime_series_covid19 100%[===================>]  74.96K  --.-KB/s    in 0.03s   \n",
            "\n",
            "2020-05-13 22:17:36 (2.61 MB/s) - ‘time_series_covid19_deaths_global.csv’ saved [76759/76759]\n",
            "\n"
          ],
          "name": "stdout"
        }
      ]
    },
    {
      "cell_type": "code",
      "metadata": {
        "id": "VSg4iV_Sa2FZ",
        "colab_type": "code",
        "outputId": "86bfc68a-a28c-4235-923b-509bc00352a9",
        "colab": {
          "base_uri": "https://localhost:8080/",
          "height": 241
        }
      },
      "source": [
        "# Load csv Dataset \n",
        "deaths_global = spark.read.csv('/content/time_series_covid19_deaths_global.csv',inferSchema=True,header=True)\n",
        "# Shape of dataset\n",
        "print((deaths_global.count(), len(deaths_global.columns)))\n",
        "#fisrt few rows of dataframe\n",
        "deaths_global.show(5)"
      ],
      "execution_count": 9,
      "outputs": [
        {
          "output_type": "stream",
          "text": [
            "(266, 116)\n",
            "+--------------+--------------+--------+-------+-------+-------+-------+-------+-------+-------+-------+-------+-------+-------+------+------+------+------+------+------+------+------+------+-------+-------+-------+-------+-------+-------+-------+-------+-------+-------+-------+-------+-------+-------+-------+-------+-------+-------+-------+-------+------+------+------+------+------+------+------+------+------+-------+-------+-------+-------+-------+-------+-------+-------+-------+-------+-------+-------+-------+-------+-------+-------+-------+-------+-------+-------+-------+-------+------+------+------+------+------+------+------+------+------+-------+-------+-------+-------+-------+-------+-------+-------+-------+-------+-------+-------+-------+-------+-------+-------+-------+-------+-------+-------+-------+------+------+------+------+------+------+------+------+------+-------+-------+-------+\n",
            "|Province/State|Country/Region|     Lat|   Long|1/22/20|1/23/20|1/24/20|1/25/20|1/26/20|1/27/20|1/28/20|1/29/20|1/30/20|1/31/20|2/1/20|2/2/20|2/3/20|2/4/20|2/5/20|2/6/20|2/7/20|2/8/20|2/9/20|2/10/20|2/11/20|2/12/20|2/13/20|2/14/20|2/15/20|2/16/20|2/17/20|2/18/20|2/19/20|2/20/20|2/21/20|2/22/20|2/23/20|2/24/20|2/25/20|2/26/20|2/27/20|2/28/20|2/29/20|3/1/20|3/2/20|3/3/20|3/4/20|3/5/20|3/6/20|3/7/20|3/8/20|3/9/20|3/10/20|3/11/20|3/12/20|3/13/20|3/14/20|3/15/20|3/16/20|3/17/20|3/18/20|3/19/20|3/20/20|3/21/20|3/22/20|3/23/20|3/24/20|3/25/20|3/26/20|3/27/20|3/28/20|3/29/20|3/30/20|3/31/20|4/1/20|4/2/20|4/3/20|4/4/20|4/5/20|4/6/20|4/7/20|4/8/20|4/9/20|4/10/20|4/11/20|4/12/20|4/13/20|4/14/20|4/15/20|4/16/20|4/17/20|4/18/20|4/19/20|4/20/20|4/21/20|4/22/20|4/23/20|4/24/20|4/25/20|4/26/20|4/27/20|4/28/20|4/29/20|4/30/20|5/1/20|5/2/20|5/3/20|5/4/20|5/5/20|5/6/20|5/7/20|5/8/20|5/9/20|5/10/20|5/11/20|5/12/20|\n",
            "+--------------+--------------+--------+-------+-------+-------+-------+-------+-------+-------+-------+-------+-------+-------+------+------+------+------+------+------+------+------+------+-------+-------+-------+-------+-------+-------+-------+-------+-------+-------+-------+-------+-------+-------+-------+-------+-------+-------+-------+-------+------+------+------+------+------+------+------+------+------+-------+-------+-------+-------+-------+-------+-------+-------+-------+-------+-------+-------+-------+-------+-------+-------+-------+-------+-------+-------+-------+-------+------+------+------+------+------+------+------+------+------+-------+-------+-------+-------+-------+-------+-------+-------+-------+-------+-------+-------+-------+-------+-------+-------+-------+-------+-------+-------+-------+------+------+------+------+------+------+------+------+------+-------+-------+-------+\n",
            "|          null|   Afghanistan|    33.0|   65.0|      0|      0|      0|      0|      0|      0|      0|      0|      0|      0|     0|     0|     0|     0|     0|     0|     0|     0|     0|      0|      0|      0|      0|      0|      0|      0|      0|      0|      0|      0|      0|      0|      0|      0|      0|      0|      0|      0|      0|     0|     0|     0|     0|     0|     0|     0|     0|     0|      0|      0|      0|      0|      0|      0|      0|      0|      0|      0|      0|      0|      1|      1|      1|      2|      4|      4|      4|      4|      4|      4|     4|     6|     6|     7|     7|    11|    14|    14|    15|     15|     18|     18|     21|     23|     25|     30|     30|     30|     33|     36|     36|     40|     42|     43|     47|     50|     57|     58|     60|     64|    68|    72|    85|    90|    95|   104|   106|   109|   115|    120|    122|    127|\n",
            "|          null|       Albania| 41.1533|20.1683|      0|      0|      0|      0|      0|      0|      0|      0|      0|      0|     0|     0|     0|     0|     0|     0|     0|     0|     0|      0|      0|      0|      0|      0|      0|      0|      0|      0|      0|      0|      0|      0|      0|      0|      0|      0|      0|      0|      0|     0|     0|     0|     0|     0|     0|     0|     0|     0|      0|      1|      1|      1|      1|      1|      1|      1|      2|      2|      2|      2|      2|      4|      5|      5|      6|      8|     10|     10|     11|     15|    15|    16|    17|    20|    20|    21|    22|    22|    23|     23|     23|     23|     23|     24|     25|     26|     26|     26|     26|     26|     26|     27|     27|     27|     27|     28|     28|     30|     30|     31|    31|    31|    31|    31|    31|    31|    31|    31|    31|     31|     31|     31|\n",
            "|          null|       Algeria| 28.0339| 1.6596|      0|      0|      0|      0|      0|      0|      0|      0|      0|      0|     0|     0|     0|     0|     0|     0|     0|     0|     0|      0|      0|      0|      0|      0|      0|      0|      0|      0|      0|      0|      0|      0|      0|      0|      0|      0|      0|      0|      0|     0|     0|     0|     0|     0|     0|     0|     0|     0|      0|      0|      1|      2|      3|      4|      4|      4|      7|      9|     11|     15|     17|     17|     19|     21|     25|     26|     29|     31|     35|     44|    58|    86|   105|   130|   152|   173|   193|   205|   235|    256|    275|    293|    313|    326|    336|    348|    364|    367|    375|    384|    392|    402|    407|    415|    419|    425|    432|    437|    444|    450|   453|   459|   463|   465|   470|   476|   483|   488|   494|    502|    507|    515|\n",
            "|          null|       Andorra| 42.5063| 1.5218|      0|      0|      0|      0|      0|      0|      0|      0|      0|      0|     0|     0|     0|     0|     0|     0|     0|     0|     0|      0|      0|      0|      0|      0|      0|      0|      0|      0|      0|      0|      0|      0|      0|      0|      0|      0|      0|      0|      0|     0|     0|     0|     0|     0|     0|     0|     0|     0|      0|      0|      0|      0|      0|      0|      0|      0|      0|      0|      0|      0|      1|      1|      1|      1|      3|      3|      3|      6|      8|     12|    14|    15|    16|    17|    18|    21|    22|    23|    25|     26|     26|     29|     29|     31|     33|     33|     35|     35|     36|     37|     37|     37|     37|     40|     40|     40|     40|     41|     42|     42|    43|    44|    45|    45|    46|    46|    47|    47|    48|     48|     48|     48|\n",
            "|          null|        Angola|-11.2027|17.8739|      0|      0|      0|      0|      0|      0|      0|      0|      0|      0|     0|     0|     0|     0|     0|     0|     0|     0|     0|      0|      0|      0|      0|      0|      0|      0|      0|      0|      0|      0|      0|      0|      0|      0|      0|      0|      0|      0|      0|     0|     0|     0|     0|     0|     0|     0|     0|     0|      0|      0|      0|      0|      0|      0|      0|      0|      0|      0|      0|      0|      0|      0|      0|      0|      0|      0|      0|      2|      2|      2|     2|     2|     2|     2|     2|     2|     2|     2|     2|      2|      2|      2|      2|      2|      2|      2|      2|      2|      2|      2|      2|      2|      2|      2|      2|      2|      2|      2|      2|      2|     2|     2|     2|     2|     2|     2|     2|     2|     2|      2|      2|      2|\n",
            "+--------------+--------------+--------+-------+-------+-------+-------+-------+-------+-------+-------+-------+-------+-------+------+------+------+------+------+------+------+------+------+-------+-------+-------+-------+-------+-------+-------+-------+-------+-------+-------+-------+-------+-------+-------+-------+-------+-------+-------+-------+------+------+------+------+------+------+------+------+------+-------+-------+-------+-------+-------+-------+-------+-------+-------+-------+-------+-------+-------+-------+-------+-------+-------+-------+-------+-------+-------+-------+------+------+------+------+------+------+------+------+------+-------+-------+-------+-------+-------+-------+-------+-------+-------+-------+-------+-------+-------+-------+-------+-------+-------+-------+-------+-------+-------+------+------+------+------+------+------+------+------+------+-------+-------+-------+\n",
            "only showing top 5 rows\n",
            "\n"
          ],
          "name": "stdout"
        }
      ]
    },
    {
      "cell_type": "code",
      "metadata": {
        "id": "ixWo6AO1b0Zh",
        "colab_type": "code",
        "outputId": "380b6dca-effd-43ef-cdb3-0991f0dd9b17",
        "colab": {
          "base_uri": "https://localhost:8080/",
          "height": 34
        }
      },
      "source": [
        "# Sum deaths of all countries\n",
        "deaths_global_last_day = deaths_global.select(deaths_global.columns[-1])\n",
        "deaths_global_total = deaths_global_last_day.groupBy().sum().collect()[0][0]\n",
        "print('Total deaths global:', deaths_global_total)"
      ],
      "execution_count": 10,
      "outputs": [
        {
          "output_type": "stream",
          "text": [
            "Total deaths global: 291942\n"
          ],
          "name": "stdout"
        }
      ]
    },
    {
      "cell_type": "code",
      "metadata": {
        "id": "f4m36L3HY4ad",
        "colab_type": "code",
        "outputId": "29edf1e6-1d7b-462a-c8c8-f72a50f2f559",
        "colab": {
          "base_uri": "https://localhost:8080/",
          "height": 390
        }
      },
      "source": [
        "deaths_global_columns = deaths_global.columns[4:]\n",
        "# Get sum of deaths by day\n",
        "deaths_global_2 = deaths_global.select(deaths_global_columns).groupBy().sum()\n",
        "\n",
        "# Dataframe to pandas\n",
        "deaths_global_2_pandas = deaths_global_2.toPandas()\n",
        "deaths_global_2_pandas.columns = deaths_global_columns\n",
        "deaths_global_2_pandas = deaths_global_2_pandas.T\n",
        "deaths_global_2_pandas.index = pd.to_datetime(deaths_global_2_pandas.index)\n",
        "\n",
        "# Plotting data\n",
        "plt.figure(2, figsize=(10,6))\n",
        "plt.plot(deaths_global_2_pandas)\n",
        "plt.title('Deaths accumulated (Global)')\n",
        "plt.show()"
      ],
      "execution_count": 11,
      "outputs": [
        {
          "output_type": "display_data",
          "data": {
            "image/png": "[encoded data removed]",
            "text/plain": [
              "<Figure size 720x432 with 1 Axes>"
            ]
          },
          "metadata": {
            "tags": [],
            "needs_background": "light"
          }
        }
      ]
    },
    {
      "cell_type": "markdown",
      "metadata": {
        "id": "AuLOgwvxegZq",
        "colab_type": "text"
      },
      "source": [
        "## Recovered"
      ]
    },
    {
      "cell_type": "code",
      "metadata": {
        "id": "klWlFpEFerk4",
        "colab_type": "code",
        "outputId": "02dcb53d-3eee-4c9d-cacc-4f0d205f1939",
        "colab": {
          "base_uri": "https://localhost:8080/",
          "height": 204
        }
      },
      "source": [
        "!wget https://raw.githubusercontent.com/CSSEGISandData/COVID-19/master/csse_covid_19_data/csse_covid_19_time_series/time_series_covid19_recovered_global.csv"
      ],
      "execution_count": 12,
      "outputs": [
        {
          "output_type": "stream",
          "text": [
            "--2020-05-13 22:17:41--  https://raw.githubusercontent.com/CSSEGISandData/COVID-19/master/csse_covid_19_data/csse_covid_19_time_series/time_series_covid19_recovered_global.csv\n",
            "Resolving raw.githubusercontent.com (raw.githubusercontent.com)... 151.101.0.133, 151.101.64.133, 151.101.128.133, ...\n",
            "Connecting to raw.githubusercontent.com (raw.githubusercontent.com)|151.101.0.133|:443... connected.\n",
            "HTTP request sent, awaiting response... 200 OK\n",
            "Length: 85266 (83K) [text/plain]\n",
            "Saving to: ‘time_series_covid19_recovered_global.csv’\n",
            "\n",
            "\r          time_seri   0%[                    ]       0  --.-KB/s               \rtime_series_covid19 100%[===================>]  83.27K  --.-KB/s    in 0.03s   \n",
            "\n",
            "2020-05-13 22:17:41 (2.69 MB/s) - ‘time_series_covid19_recovered_global.csv’ saved [85266/85266]\n",
            "\n"
          ],
          "name": "stdout"
        }
      ]
    },
    {
      "cell_type": "code",
      "metadata": {
        "id": "-xej49ieew1g",
        "colab_type": "code",
        "outputId": "b74e8d32-66aa-4e59-a76b-26b4c7e80961",
        "colab": {
          "base_uri": "https://localhost:8080/",
          "height": 241
        }
      },
      "source": [
        "# Load csv Dataset \n",
        "recovered_global = spark.read.csv('/content/time_series_covid19_recovered_global.csv',inferSchema=True,header=True)\n",
        "# Shape of dataset\n",
        "print((recovered_global.count(), len(recovered_global.columns)))\n",
        "#fisrt few rows of dataframe\n",
        "recovered_global.show(5)"
      ],
      "execution_count": 13,
      "outputs": [
        {
          "output_type": "stream",
          "text": [
            "(252, 116)\n",
            "+--------------+--------------+--------+-------+-------+-------+-------+-------+-------+-------+-------+-------+-------+-------+------+------+------+------+------+------+------+------+------+-------+-------+-------+-------+-------+-------+-------+-------+-------+-------+-------+-------+-------+-------+-------+-------+-------+-------+-------+-------+------+------+------+------+------+------+------+------+------+-------+-------+-------+-------+-------+-------+-------+-------+-------+-------+-------+-------+-------+-------+-------+-------+-------+-------+-------+-------+-------+-------+------+------+------+------+------+------+------+------+------+-------+-------+-------+-------+-------+-------+-------+-------+-------+-------+-------+-------+-------+-------+-------+-------+-------+-------+-------+-------+-------+------+------+------+------+------+------+------+------+------+-------+-------+-------+\n",
            "|Province/State|Country/Region|     Lat|   Long|1/22/20|1/23/20|1/24/20|1/25/20|1/26/20|1/27/20|1/28/20|1/29/20|1/30/20|1/31/20|2/1/20|2/2/20|2/3/20|2/4/20|2/5/20|2/6/20|2/7/20|2/8/20|2/9/20|2/10/20|2/11/20|2/12/20|2/13/20|2/14/20|2/15/20|2/16/20|2/17/20|2/18/20|2/19/20|2/20/20|2/21/20|2/22/20|2/23/20|2/24/20|2/25/20|2/26/20|2/27/20|2/28/20|2/29/20|3/1/20|3/2/20|3/3/20|3/4/20|3/5/20|3/6/20|3/7/20|3/8/20|3/9/20|3/10/20|3/11/20|3/12/20|3/13/20|3/14/20|3/15/20|3/16/20|3/17/20|3/18/20|3/19/20|3/20/20|3/21/20|3/22/20|3/23/20|3/24/20|3/25/20|3/26/20|3/27/20|3/28/20|3/29/20|3/30/20|3/31/20|4/1/20|4/2/20|4/3/20|4/4/20|4/5/20|4/6/20|4/7/20|4/8/20|4/9/20|4/10/20|4/11/20|4/12/20|4/13/20|4/14/20|4/15/20|4/16/20|4/17/20|4/18/20|4/19/20|4/20/20|4/21/20|4/22/20|4/23/20|4/24/20|4/25/20|4/26/20|4/27/20|4/28/20|4/29/20|4/30/20|5/1/20|5/2/20|5/3/20|5/4/20|5/5/20|5/6/20|5/7/20|5/8/20|5/9/20|5/10/20|5/11/20|5/12/20|\n",
            "+--------------+--------------+--------+-------+-------+-------+-------+-------+-------+-------+-------+-------+-------+-------+------+------+------+------+------+------+------+------+------+-------+-------+-------+-------+-------+-------+-------+-------+-------+-------+-------+-------+-------+-------+-------+-------+-------+-------+-------+-------+------+------+------+------+------+------+------+------+------+-------+-------+-------+-------+-------+-------+-------+-------+-------+-------+-------+-------+-------+-------+-------+-------+-------+-------+-------+-------+-------+-------+------+------+------+------+------+------+------+------+------+-------+-------+-------+-------+-------+-------+-------+-------+-------+-------+-------+-------+-------+-------+-------+-------+-------+-------+-------+-------+-------+------+------+------+------+------+------+------+------+------+-------+-------+-------+\n",
            "|          null|   Afghanistan|    33.0|   65.0|      0|      0|      0|      0|      0|      0|      0|      0|      0|      0|     0|     0|     0|     0|     0|     0|     0|     0|     0|      0|      0|      0|      0|      0|      0|      0|      0|      0|      0|      0|      0|      0|      0|      0|      0|      0|      0|      0|      0|     0|     0|     0|     0|     0|     0|     0|     0|     0|      0|      0|      0|      0|      0|      0|      1|      1|      1|      1|      1|      1|      1|      1|      1|      2|      2|      2|      2|      2|      2|      5|     5|    10|    10|    10|    15|    18|    18|    29|    32|     32|     32|     32|     32|     40|     43|     54|     99|    112|    131|    135|    150|    166|    179|    188|    188|    207|    220|    228|    252|    260|   310|   331|   345|   397|   421|   458|   468|   472|   502|    558|    558|    610|\n",
            "|          null|       Albania| 41.1533|20.1683|      0|      0|      0|      0|      0|      0|      0|      0|      0|      0|     0|     0|     0|     0|     0|     0|     0|     0|     0|      0|      0|      0|      0|      0|      0|      0|      0|      0|      0|      0|      0|      0|      0|      0|      0|      0|      0|      0|      0|     0|     0|     0|     0|     0|     0|     0|     0|     0|      0|      0|      0|      0|      0|      0|      0|      0|      0|      0|      0|      2|      2|      2|     10|     17|     17|     31|     31|     33|     44|     52|    67|    76|    89|    99|   104|   116|   131|   154|   165|    182|    197|    217|    232|    248|    251|    277|    283|    302|    314|    327|    345|    356|    385|    394|    403|    410|    422|    431|    455|    470|   488|   519|   531|   543|   570|   595|   605|   620|   627|    650|    654|    682|\n",
            "|          null|       Algeria| 28.0339| 1.6596|      0|      0|      0|      0|      0|      0|      0|      0|      0|      0|     0|     0|     0|     0|     0|     0|     0|     0|     0|      0|      0|      0|      0|      0|      0|      0|      0|      0|      0|      0|      0|      0|      0|      0|      0|      0|      0|      0|      0|     0|     0|     0|     0|     0|     0|     0|     0|     0|      0|      0|      8|      8|     12|     12|     12|     12|     12|     32|     32|     32|     65|     65|     24|     65|     29|     29|     31|     31|     37|     46|    61|    61|    62|    90|    90|    90|   113|   237|   347|    405|    460|    591|    601|    691|    708|    783|    846|    894|   1047|   1099|   1152|   1204|   1355|   1408|   1479|   1508|   1558|   1651|   1702|   1779|  1821|  1872|  1936|  1998|  2067|  2197|  2323|  2467|  2546|   2678|   2841|   2998|\n",
            "|          null|       Andorra| 42.5063| 1.5218|      0|      0|      0|      0|      0|      0|      0|      0|      0|      0|     0|     0|     0|     0|     0|     0|     0|     0|     0|      0|      0|      0|      0|      0|      0|      0|      0|      0|      0|      0|      0|      0|      0|      0|      0|      0|      0|      0|      0|     0|     0|     0|     0|     0|     0|     0|     0|     0|      0|      0|      1|      0|      1|      1|      1|      1|      1|      1|      1|      1|      1|      1|      1|      1|      1|      1|      1|      1|     10|     10|    10|    10|    16|    21|    26|    31|    39|    52|    58|     71|     71|    128|    128|    128|    169|    169|    191|    205|    235|    248|    282|    309|    333|    344|    344|    344|    385|    398|    423|    468|   468|   472|   493|   499|   514|   521|   526|   537|   545|    550|    550|    568|\n",
            "|          null|        Angola|-11.2027|17.8739|      0|      0|      0|      0|      0|      0|      0|      0|      0|      0|     0|     0|     0|     0|     0|     0|     0|     0|     0|      0|      0|      0|      0|      0|      0|      0|      0|      0|      0|      0|      0|      0|      0|      0|      0|      0|      0|      0|      0|     0|     0|     0|     0|     0|     0|     0|     0|     0|      0|      0|      0|      0|      0|      0|      0|      0|      0|      0|      0|      0|      0|      0|      0|      0|      0|      0|      0|      0|      0|      1|     1|     1|     1|     2|     2|     2|     2|     2|     2|      2|      4|      4|      4|      5|      5|      5|      5|      6|      6|      6|      6|      6|      6|      6|      6|      6|      6|      6|      7|      7|    11|    11|    11|    11|    11|    11|    11|    11|    13|     13|     13|     13|\n",
            "+--------------+--------------+--------+-------+-------+-------+-------+-------+-------+-------+-------+-------+-------+-------+------+------+------+------+------+------+------+------+------+-------+-------+-------+-------+-------+-------+-------+-------+-------+-------+-------+-------+-------+-------+-------+-------+-------+-------+-------+-------+------+------+------+------+------+------+------+------+------+-------+-------+-------+-------+-------+-------+-------+-------+-------+-------+-------+-------+-------+-------+-------+-------+-------+-------+-------+-------+-------+-------+------+------+------+------+------+------+------+------+------+-------+-------+-------+-------+-------+-------+-------+-------+-------+-------+-------+-------+-------+-------+-------+-------+-------+-------+-------+-------+-------+------+------+------+------+------+------+------+------+------+-------+-------+-------+\n",
            "only showing top 5 rows\n",
            "\n"
          ],
          "name": "stdout"
        }
      ]
    },
    {
      "cell_type": "code",
      "metadata": {
        "id": "Bs9uxOiAfG1R",
        "colab_type": "code",
        "outputId": "672709c2-ea25-4bb9-bc1b-d5e199b8ec5d",
        "colab": {
          "base_uri": "https://localhost:8080/",
          "height": 34
        }
      },
      "source": [
        "# Sum deaths of all countries\n",
        "recovered_global_last_day = recovered_global.select(recovered_global.columns[-1])\n",
        "recovered_global_total = recovered_global_last_day.groupBy().sum().collect()[0][0]\n",
        "print('Total recovered global:', recovered_global_total)"
      ],
      "execution_count": 14,
      "outputs": [
        {
          "output_type": "stream",
          "text": [
            "Total recovered global: 1493414\n"
          ],
          "name": "stdout"
        }
      ]
    },
    {
      "cell_type": "code",
      "metadata": {
        "id": "2mVOF6FDqQku",
        "colab_type": "code",
        "outputId": "4766982b-8c41-45ac-cc92-f84477498d1c",
        "colab": {
          "base_uri": "https://localhost:8080/",
          "height": 390
        }
      },
      "source": [
        "recovered_global_columns = recovered_global.columns[4:]\n",
        "# Get sum of deaths by day\n",
        "recovered_global_2 = recovered_global.select(recovered_global_columns).groupBy().sum()\n",
        "\n",
        "# Dataframe to pandas\n",
        "recovered_global_2_pandas = recovered_global_2.toPandas()\n",
        "recovered_global_2_pandas.columns = recovered_global_columns\n",
        "recovered_global_2_pandas = recovered_global_2_pandas.T\n",
        "recovered_global_2_pandas.index = pd.to_datetime(recovered_global_2_pandas.index)\n",
        "\n",
        "# Plotting data\n",
        "plt.figure(3, figsize=(10,6))\n",
        "plt.plot(recovered_global_2_pandas)\n",
        "plt.title('Recovered cases accumulated (Global)')\n",
        "plt.show()"
      ],
      "execution_count": 15,
      "outputs": [
        {
          "output_type": "display_data",
          "data": {
            "image/png": "[encoded data removed]",
            "text/plain": [
              "<Figure size 720x432 with 1 Axes>"
            ]
          },
          "metadata": {
            "tags": [],
            "needs_background": "light"
          }
        }
      ]
    },
    {
      "cell_type": "markdown",
      "metadata": {
        "id": "mq5chrDLsHDG",
        "colab_type": "text"
      },
      "source": [
        "## Summary"
      ]
    },
    {
      "cell_type": "code",
      "metadata": {
        "id": "NXK0EjIisOsN",
        "colab_type": "code",
        "outputId": "5bfcb4eb-46c3-45ec-877e-590a139dffdc",
        "colab": {
          "base_uri": "https://localhost:8080/",
          "height": 390
        }
      },
      "source": [
        "# Plotting data\n",
        "plt.figure(4, figsize=(10,6))\n",
        "plt.plot(confirmed_global_2_pandas, label='Confirmed')\n",
        "plt.plot(recovered_global_2_pandas, label='Recovered')\n",
        "plt.plot(deaths_global_2_pandas, label='Deaths')\n",
        "plt.title('Globlal accumulated cases')\n",
        "plt.legend(loc='upper left')\n",
        "plt.show()"
      ],
      "execution_count": 16,
      "outputs": [
        {
          "output_type": "display_data",
          "data": {
            "image/png": "[encoded data removed]",
            "text/plain": [
              "<Figure size 720x432 with 1 Axes>"
            ]
          },
          "metadata": {
            "tags": [],
            "needs_background": "light"
          }
        }
      ]
    },
    {
      "cell_type": "markdown",
      "metadata": {
        "id": "Ico3ed45JDGX",
        "colab_type": "text"
      },
      "source": [
        "# Colombia"
      ]
    },
    {
      "cell_type": "code",
      "metadata": {
        "id": "7eQZt28BJMe6",
        "colab_type": "code",
        "outputId": "07240dec-40b5-46af-8f4b-8c0cb1d04c77",
        "colab": {
          "base_uri": "https://localhost:8080/",
          "height": 204
        }
      },
      "source": [
        "!wget https://www.datos.gov.co/api/views/gt2j-8ykr/rows.csv"
      ],
      "execution_count": 17,
      "outputs": [
        {
          "output_type": "stream",
          "text": [
            "--2020-05-13 22:17:47--  https://www.datos.gov.co/api/views/gt2j-8ykr/rows.csv\n",
            "Resolving www.datos.gov.co (www.datos.gov.co)... 52.206.140.205\n",
            "Connecting to www.datos.gov.co (www.datos.gov.co)|52.206.140.205|:443... connected.\n",
            "HTTP request sent, awaiting response... 200 OK\n",
            "Length: unspecified [text/csv]\n",
            "Saving to: ‘rows.csv’\n",
            "\n",
            "rows.csv                [    <=>             ]   2.19M  2.01MB/s    in 1.1s    \n",
            "\n",
            "2020-05-13 22:17:50 (2.01 MB/s) - ‘rows.csv’ saved [2297556]\n",
            "\n"
          ],
          "name": "stdout"
        }
      ]
    },
    {
      "cell_type": "code",
      "metadata": {
        "id": "A_Gvqa2_YBb0",
        "colab_type": "code",
        "outputId": "b8f01234-3844-4446-b598-6f02e1676d62",
        "colab": {
          "base_uri": "https://localhost:8080/",
          "height": 241
        }
      },
      "source": [
        "# Load csv Dataset \n",
        "colombia = spark.read.csv('/content/rows.csv', inferSchema=True, header=True)\n",
        "# Shape of dataset\n",
        "print((colombia.count(), len(colombia.columns)))\n",
        "#fisrt few rows of dataframe\n",
        "colombia.show(5)"
      ],
      "execution_count": 18,
      "outputs": [
        {
          "output_type": "stream",
          "text": [
            "(12272, 16)\n",
            "+----------+---------------------+---------------+-------------------+------------------------+----------+----+----+-----------+----------+-------------------+--------------------+---------------+-------------------+--------------------+-------------------+\n",
            "|ID de caso|Fecha de notificación|Codigo DIVIPOLA|Ciudad de ubicación|Departamento o Distrito |  atención|Edad|Sexo|       Tipo|    Estado|País de procedencia|                 FIS|Fecha de muerte|  Fecha diagnostico|    Fecha recuperado|  fecha reporte web|\n",
            "+----------+---------------------+---------------+-------------------+------------------------+----------+----+----+-----------+----------+-------------------+--------------------+---------------+-------------------+--------------------+-------------------+\n",
            "|         1|  2020-03-02 00:00:00|          11001|        Bogotá D.C.|             Bogotá D.C.|Recuperado|  19|   F|  Importado|Recuperado|             Italia|2020-02-27T00:00:...|          -   -|2020-03-06 00:00:00|2020-03-13T00:00:...|2020-03-06 00:00:00|\n",
            "|         2|  2020-03-06 00:00:00|          76111|Guadalajara de Buga|         Valle del Cauca|Recuperado|  34|   M|  Importado|Recuperado|             España|2020-03-04T00:00:...|          -   -|2020-03-09 00:00:00|2020-03-19T00:00:...|2020-03-09 00:00:00|\n",
            "|         3|  2020-03-07 00:00:00|           5001|           Medellín|               Antioquia|Recuperado|  50|   F|  Importado|Recuperado|             España|2020-02-29T00:00:...|          -   -|2020-03-09 00:00:00|2020-03-15T00:00:...|2020-03-09 00:00:00|\n",
            "|         4|  2020-03-09 00:00:00|           5001|           Medellín|               Antioquia|Recuperado|  55|   M|Relacionado|Recuperado|           Colombia|2020-03-06T00:00:...|          -   -|2020-03-11 00:00:00|2020-03-26T00:00:...|2020-03-11 00:00:00|\n",
            "|         5|  2020-03-09 00:00:00|           5001|           Medellín|               Antioquia|Recuperado|  25|   M|Relacionado|Recuperado|           Colombia|2020-03-08T00:00:...|          -   -|2020-03-11 00:00:00|2020-03-23T00:00:...|2020-03-11 00:00:00|\n",
            "+----------+---------------------+---------------+-------------------+------------------------+----------+----+----+-----------+----------+-------------------+--------------------+---------------+-------------------+--------------------+-------------------+\n",
            "only showing top 5 rows\n",
            "\n"
          ],
          "name": "stdout"
        }
      ]
    },
    {
      "cell_type": "code",
      "metadata": {
        "id": "lOs6EpTGYuJM",
        "colab_type": "code",
        "outputId": "c456ae5e-168f-4bc1-8e23-57b448f4a11b",
        "colab": {
          "base_uri": "https://localhost:8080/",
          "height": 204
        }
      },
      "source": [
        "colombia = colombia.drop('Fecha de notificación','Codigo DIVIPOLA', 'FIS', 'fecha reporte web')\n",
        "colombia.show(5)"
      ],
      "execution_count": 19,
      "outputs": [
        {
          "output_type": "stream",
          "text": [
            "+----------+-------------------+------------------------+----------+----+----+-----------+----------+-------------------+---------------+-------------------+--------------------+\n",
            "|ID de caso|Ciudad de ubicación|Departamento o Distrito |  atención|Edad|Sexo|       Tipo|    Estado|País de procedencia|Fecha de muerte|  Fecha diagnostico|    Fecha recuperado|\n",
            "+----------+-------------------+------------------------+----------+----+----+-----------+----------+-------------------+---------------+-------------------+--------------------+\n",
            "|         1|        Bogotá D.C.|             Bogotá D.C.|Recuperado|  19|   F|  Importado|Recuperado|             Italia|          -   -|2020-03-06 00:00:00|2020-03-13T00:00:...|\n",
            "|         2|Guadalajara de Buga|         Valle del Cauca|Recuperado|  34|   M|  Importado|Recuperado|             España|          -   -|2020-03-09 00:00:00|2020-03-19T00:00:...|\n",
            "|         3|           Medellín|               Antioquia|Recuperado|  50|   F|  Importado|Recuperado|             España|          -   -|2020-03-09 00:00:00|2020-03-15T00:00:...|\n",
            "|         4|           Medellín|               Antioquia|Recuperado|  55|   M|Relacionado|Recuperado|           Colombia|          -   -|2020-03-11 00:00:00|2020-03-26T00:00:...|\n",
            "|         5|           Medellín|               Antioquia|Recuperado|  25|   M|Relacionado|Recuperado|           Colombia|          -   -|2020-03-11 00:00:00|2020-03-23T00:00:...|\n",
            "+----------+-------------------+------------------------+----------+----+----+-----------+----------+-------------------+---------------+-------------------+--------------------+\n",
            "only showing top 5 rows\n",
            "\n"
          ],
          "name": "stdout"
        }
      ]
    },
    {
      "cell_type": "markdown",
      "metadata": {
        "id": "P5vG2QdPC3FD",
        "colab_type": "text"
      },
      "source": [
        "## By State"
      ]
    },
    {
      "cell_type": "code",
      "metadata": {
        "id": "LMZ8d73kZL7T",
        "colab_type": "code",
        "outputId": "3365aff2-7b7a-45ad-c937-f0a136a613e8",
        "colab": {
          "base_uri": "https://localhost:8080/",
          "height": 289
        }
      },
      "source": [
        "colombia_by_state = colombia.groupBy('Departamento o Distrito ').count().orderBy('count', ascending=False)\n",
        "colombia_by_state.show(10)\n",
        "\n",
        "# Dataframe to pandas\n",
        "colombia_by_state_pandas = colombia_by_state.toPandas()[:10]\n",
        "colombia_by_state_pandas.set_index(\"Departamento o Distrito \", inplace = True)"
      ],
      "execution_count": 20,
      "outputs": [
        {
          "output_type": "stream",
          "text": [
            "+------------------------+-----+\n",
            "|Departamento o Distrito |count|\n",
            "+------------------------+-----+\n",
            "|             Bogotá D.C.| 4563|\n",
            "|         Valle del Cauca| 1336|\n",
            "|                    Meta|  935|\n",
            "|     Cartagena D.T. y C.|  768|\n",
            "|                Amazonas|  743|\n",
            "|               Atlántico|  608|\n",
            "|       Barranquilla D.E.|  516|\n",
            "|               Antioquia|  481|\n",
            "|                  Nariño|  338|\n",
            "|            Cundinamarca|  309|\n",
            "+------------------------+-----+\n",
            "only showing top 10 rows\n",
            "\n"
          ],
          "name": "stdout"
        }
      ]
    },
    {
      "cell_type": "code",
      "metadata": {
        "id": "9VT22JmDeKM2",
        "colab_type": "code",
        "outputId": "a5614aaf-faee-4ee1-9b81-a3566a940c47",
        "colab": {
          "base_uri": "https://localhost:8080/",
          "height": 491
        }
      },
      "source": [
        "# Plotting data\n",
        "colombia_by_state_pandas.plot.bar(figsize=(10,6)).legend([\"Comfirmed cases\"])\n",
        "plt.title('Top 10 of Colombian states with more comfirmed cases')\n",
        "plt.show()"
      ],
      "execution_count": 21,
      "outputs": [
        {
          "output_type": "display_data",
          "data": {
            "image/png": "[encoded data removed]",
            "text/plain": [
              "<Figure size 720x432 with 1 Axes>"
            ]
          },
          "metadata": {
            "tags": [],
            "needs_background": "light"
          }
        }
      ]
    },
    {
      "cell_type": "code",
      "metadata": {
        "id": "urox5VqqsTTj",
        "colab_type": "code",
        "outputId": "84965f5a-47af-44ea-9026-2adf8e802195",
        "colab": {
          "base_uri": "https://localhost:8080/",
          "height": 289
        }
      },
      "source": [
        "# Recober cases by state\n",
        "colombia_by_state2 = colombia.filter(colombia['Fecha recuperado']!='-   -').groupBy('Departamento o Distrito ').count().orderBy('count', ascending=False)\n",
        "colombia_by_state2.show(10)\n",
        "\n",
        "# Dataframe to pandas\n",
        "colombia_by_state_2pandas = colombia_by_state2.toPandas()\n",
        "colombia_by_state_2pandas.set_index(\"Departamento o Distrito \", inplace = True)"
      ],
      "execution_count": 22,
      "outputs": [
        {
          "output_type": "stream",
          "text": [
            "+------------------------+-----+\n",
            "|Departamento o Distrito |count|\n",
            "+------------------------+-----+\n",
            "|             Bogotá D.C.| 1197|\n",
            "|         Valle del Cauca|  412|\n",
            "|               Antioquia|  290|\n",
            "|            Cundinamarca|  151|\n",
            "|     Cartagena D.T. y C.|  143|\n",
            "|               Risaralda|  135|\n",
            "|                   Huila|   61|\n",
            "|       Barranquilla D.E.|   59|\n",
            "|    Santa Marta D.T. ...|   58|\n",
            "|                 Quindio|   54|\n",
            "+------------------------+-----+\n",
            "only showing top 10 rows\n",
            "\n"
          ],
          "name": "stdout"
        }
      ]
    },
    {
      "cell_type": "code",
      "metadata": {
        "id": "LZF9e4LLaaM2",
        "colab_type": "code",
        "outputId": "fb9a1cbe-c73a-423e-a024-6797865b825a",
        "colab": {
          "base_uri": "https://localhost:8080/",
          "height": 289
        }
      },
      "source": [
        "# Recober cases by state\n",
        "colombia_by_state3 = colombia.filter(colombia['Fecha de muerte']!='-   -').groupBy('Departamento o Distrito ').count().orderBy('count', ascending=False)\n",
        "colombia_by_state3.show(10)\n",
        "\n",
        "# Dataframe to pandas\n",
        "colombia_by_state_3pandas = colombia_by_state3.toPandas()\n",
        "colombia_by_state_3pandas.set_index(\"Departamento o Distrito \", inplace = True)"
      ],
      "execution_count": 23,
      "outputs": [
        {
          "output_type": "stream",
          "text": [
            "+------------------------+-----+\n",
            "|Departamento o Distrito |count|\n",
            "+------------------------+-----+\n",
            "|             Bogotá D.C.|  157|\n",
            "|         Valle del Cauca|   78|\n",
            "|     Cartagena D.T. y C.|   49|\n",
            "|                Amazonas|   26|\n",
            "|       Barranquilla D.E.|   24|\n",
            "|               Atlántico|   18|\n",
            "|                  Nariño|   18|\n",
            "|    Santa Marta D.T. ...|   17|\n",
            "|            Cundinamarca|   13|\n",
            "|                   Cesar|   11|\n",
            "+------------------------+-----+\n",
            "only showing top 10 rows\n",
            "\n"
          ],
          "name": "stdout"
        }
      ]
    },
    {
      "cell_type": "code",
      "metadata": {
        "id": "NtLjVPpfYdJ3",
        "colab_type": "code",
        "outputId": "def51a28-97fd-4c8e-fde7-a36714eb60e7",
        "colab": {
          "base_uri": "https://localhost:8080/",
          "height": 390
        }
      },
      "source": [
        "colombia_by_state_pandas_merge = pd.merge(colombia_by_state_pandas, colombia_by_state_2pandas, left_index=True, right_index=True)\n",
        "colombia_by_state_pandas_merge = pd.merge(colombia_by_state_pandas_merge, colombia_by_state_3pandas, left_index=True, right_index=True)\n",
        "colombia_by_state_pandas_merge"
      ],
      "execution_count": 24,
      "outputs": [
        {
          "output_type": "execute_result",
          "data": {
            "text/html": [
              "<div>\n",
              "<style scoped>\n",
              "    .dataframe tbody tr th:only-of-type {\n",
              "        vertical-align: middle;\n",
              "    }\n",
              "\n",
              "    .dataframe tbody tr th {\n",
              "        vertical-align: top;\n",
              "    }\n",
              "\n",
              "    .dataframe thead th {\n",
              "        text-align: right;\n",
              "    }\n",
              "</style>\n",
              "<table border=\"1\" class=\"dataframe\">\n",
              "  <thead>\n",
              "    <tr style=\"text-align: right;\">\n",
              "      <th></th>\n",
              "      <th>count_x</th>\n",
              "      <th>count_y</th>\n",
              "      <th>count</th>\n",
              "    </tr>\n",
              "    <tr>\n",
              "      <th>Departamento o Distrito</th>\n",
              "      <th></th>\n",
              "      <th></th>\n",
              "      <th></th>\n",
              "    </tr>\n",
              "  </thead>\n",
              "  <tbody>\n",
              "    <tr>\n",
              "      <th>Bogotá D.C.</th>\n",
              "      <td>4563</td>\n",
              "      <td>1197</td>\n",
              "      <td>157</td>\n",
              "    </tr>\n",
              "    <tr>\n",
              "      <th>Valle del Cauca</th>\n",
              "      <td>1336</td>\n",
              "      <td>412</td>\n",
              "      <td>78</td>\n",
              "    </tr>\n",
              "    <tr>\n",
              "      <th>Meta</th>\n",
              "      <td>935</td>\n",
              "      <td>42</td>\n",
              "      <td>6</td>\n",
              "    </tr>\n",
              "    <tr>\n",
              "      <th>Cartagena D.T. y C.</th>\n",
              "      <td>768</td>\n",
              "      <td>143</td>\n",
              "      <td>49</td>\n",
              "    </tr>\n",
              "    <tr>\n",
              "      <th>Amazonas</th>\n",
              "      <td>743</td>\n",
              "      <td>9</td>\n",
              "      <td>26</td>\n",
              "    </tr>\n",
              "    <tr>\n",
              "      <th>Atlántico</th>\n",
              "      <td>608</td>\n",
              "      <td>26</td>\n",
              "      <td>18</td>\n",
              "    </tr>\n",
              "    <tr>\n",
              "      <th>Barranquilla D.E.</th>\n",
              "      <td>516</td>\n",
              "      <td>59</td>\n",
              "      <td>24</td>\n",
              "    </tr>\n",
              "    <tr>\n",
              "      <th>Antioquia</th>\n",
              "      <td>481</td>\n",
              "      <td>290</td>\n",
              "      <td>6</td>\n",
              "    </tr>\n",
              "    <tr>\n",
              "      <th>Nariño</th>\n",
              "      <td>338</td>\n",
              "      <td>34</td>\n",
              "      <td>18</td>\n",
              "    </tr>\n",
              "    <tr>\n",
              "      <th>Cundinamarca</th>\n",
              "      <td>309</td>\n",
              "      <td>151</td>\n",
              "      <td>13</td>\n",
              "    </tr>\n",
              "  </tbody>\n",
              "</table>\n",
              "</div>"
            ],
            "text/plain": [
              "                          count_x  count_y  count\n",
              "Departamento o Distrito                          \n",
              "Bogotá D.C.                  4563     1197    157\n",
              "Valle del Cauca              1336      412     78\n",
              "Meta                          935       42      6\n",
              "Cartagena D.T. y C.           768      143     49\n",
              "Amazonas                      743        9     26\n",
              "Atlántico                     608       26     18\n",
              "Barranquilla D.E.             516       59     24\n",
              "Antioquia                     481      290      6\n",
              "Nariño                        338       34     18\n",
              "Cundinamarca                  309      151     13"
            ]
          },
          "metadata": {
            "tags": []
          },
          "execution_count": 24
        }
      ]
    },
    {
      "cell_type": "code",
      "metadata": {
        "id": "jFKCc40fZdSO",
        "colab_type": "code",
        "outputId": "91a6c6d9-95ef-47d3-818f-42ebef2f19ab",
        "colab": {
          "base_uri": "https://localhost:8080/",
          "height": 475
        }
      },
      "source": [
        "# Plotting data\n",
        "colombia_by_state_pandas_merge.plot.bar(figsize=(10,6)).legend([\"Comfirmed cases\", \"Recovered\", \"Dead\"])\n",
        "plt.show()"
      ],
      "execution_count": 25,
      "outputs": [
        {
          "output_type": "display_data",
          "data": {
            "image/png": "[encoded data removed]",
            "text/plain": [
              "<Figure size 720x432 with 1 Axes>"
            ]
          },
          "metadata": {
            "tags": [],
            "needs_background": "light"
          }
        }
      ]
    },
    {
      "cell_type": "code",
      "metadata": {
        "id": "BpT9JrhVaHtH",
        "colab_type": "code",
        "colab": {
          "base_uri": "https://localhost:8080/",
          "height": 390
        },
        "outputId": "38ed8f73-8f4a-44c1-995a-3a5af9b83043"
      },
      "source": [
        "colombia_by_state_pandas_merge['real'] = colombia_by_state_pandas_merge['count_x'] - colombia_by_state_pandas_merge['count_y'] -colombia_by_state_pandas_merge['count']\n",
        "colombia_by_state_pandas_merge2 = colombia_by_state_pandas_merge[['real']].sort_values(by=['real'], ascending=False)\n",
        "colombia_by_state_pandas_merge2"
      ],
      "execution_count": 26,
      "outputs": [
        {
          "output_type": "execute_result",
          "data": {
            "text/html": [
              "<div>\n",
              "<style scoped>\n",
              "    .dataframe tbody tr th:only-of-type {\n",
              "        vertical-align: middle;\n",
              "    }\n",
              "\n",
              "    .dataframe tbody tr th {\n",
              "        vertical-align: top;\n",
              "    }\n",
              "\n",
              "    .dataframe thead th {\n",
              "        text-align: right;\n",
              "    }\n",
              "</style>\n",
              "<table border=\"1\" class=\"dataframe\">\n",
              "  <thead>\n",
              "    <tr style=\"text-align: right;\">\n",
              "      <th></th>\n",
              "      <th>real</th>\n",
              "    </tr>\n",
              "    <tr>\n",
              "      <th>Departamento o Distrito</th>\n",
              "      <th></th>\n",
              "    </tr>\n",
              "  </thead>\n",
              "  <tbody>\n",
              "    <tr>\n",
              "      <th>Bogotá D.C.</th>\n",
              "      <td>3209</td>\n",
              "    </tr>\n",
              "    <tr>\n",
              "      <th>Meta</th>\n",
              "      <td>887</td>\n",
              "    </tr>\n",
              "    <tr>\n",
              "      <th>Valle del Cauca</th>\n",
              "      <td>846</td>\n",
              "    </tr>\n",
              "    <tr>\n",
              "      <th>Amazonas</th>\n",
              "      <td>708</td>\n",
              "    </tr>\n",
              "    <tr>\n",
              "      <th>Cartagena D.T. y C.</th>\n",
              "      <td>576</td>\n",
              "    </tr>\n",
              "    <tr>\n",
              "      <th>Atlántico</th>\n",
              "      <td>564</td>\n",
              "    </tr>\n",
              "    <tr>\n",
              "      <th>Barranquilla D.E.</th>\n",
              "      <td>433</td>\n",
              "    </tr>\n",
              "    <tr>\n",
              "      <th>Nariño</th>\n",
              "      <td>286</td>\n",
              "    </tr>\n",
              "    <tr>\n",
              "      <th>Antioquia</th>\n",
              "      <td>185</td>\n",
              "    </tr>\n",
              "    <tr>\n",
              "      <th>Cundinamarca</th>\n",
              "      <td>145</td>\n",
              "    </tr>\n",
              "  </tbody>\n",
              "</table>\n",
              "</div>"
            ],
            "text/plain": [
              "                          real\n",
              "Departamento o Distrito       \n",
              "Bogotá D.C.               3209\n",
              "Meta                       887\n",
              "Valle del Cauca            846\n",
              "Amazonas                   708\n",
              "Cartagena D.T. y C.        576\n",
              "Atlántico                  564\n",
              "Barranquilla D.E.          433\n",
              "Nariño                     286\n",
              "Antioquia                  185\n",
              "Cundinamarca               145"
            ]
          },
          "metadata": {
            "tags": []
          },
          "execution_count": 26
        }
      ]
    },
    {
      "cell_type": "code",
      "metadata": {
        "id": "ZcaGr1Hl-jPC",
        "colab_type": "code",
        "colab": {
          "base_uri": "https://localhost:8080/",
          "height": 475
        },
        "outputId": "591a4181-a2ba-4d22-cb8f-273e6ff38059"
      },
      "source": [
        "# Plotting data\n",
        "colombia_by_state_pandas_merge2.plot.bar(figsize=(10,6)).legend([\"Active cases\"])\n",
        "plt.show()"
      ],
      "execution_count": 27,
      "outputs": [
        {
          "output_type": "display_data",
          "data": {
            "image/png": "[encoded data removed]",
            "text/plain": [
              "<Figure size 720x432 with 1 Axes>"
            ]
          },
          "metadata": {
            "tags": [],
            "needs_background": "light"
          }
        }
      ]
    },
    {
      "cell_type": "markdown",
      "metadata": {
        "id": "BoHRSiCTC_5H",
        "colab_type": "text"
      },
      "source": [
        "## By origin country"
      ]
    },
    {
      "cell_type": "code",
      "metadata": {
        "id": "94NGFKJpAPoh",
        "colab_type": "code",
        "colab": {
          "base_uri": "https://localhost:8080/",
          "height": 289
        },
        "outputId": "9ccd7e39-3ba9-494a-d997-c57161029980"
      },
      "source": [
        "colombia_by_country = colombia.groupBy('País de procedencia').count().orderBy('count', ascending=False)\n",
        "colombia_by_country.show(10)\n",
        "\n",
        "# Dataframe to pandas\n",
        "colombia_by_country_pandas = colombia_by_country.toPandas()[1:10]\n",
        "colombia_by_country_pandas.set_index(\"País de procedencia\", inplace = True)"
      ],
      "execution_count": 28,
      "outputs": [
        {
          "output_type": "stream",
          "text": [
            "+--------------------+-----+\n",
            "| País de procedencia|count|\n",
            "+--------------------+-----+\n",
            "|            Colombia|11430|\n",
            "|              España|  259|\n",
            "|Estados Unidos de...|  216|\n",
            "|             Ecuador|   50|\n",
            "|              México|   47|\n",
            "|              Brasil|   36|\n",
            "|              Panamá|   34|\n",
            "|             Turquía|   28|\n",
            "|             Francia|   16|\n",
            "|             Jamaica|   16|\n",
            "+--------------------+-----+\n",
            "only showing top 10 rows\n",
            "\n"
          ],
          "name": "stdout"
        }
      ]
    },
    {
      "cell_type": "code",
      "metadata": {
        "id": "TNXMGJ-AApRT",
        "colab_type": "code",
        "colab": {
          "base_uri": "https://localhost:8080/",
          "height": 531
        },
        "outputId": "a4a51785-e493-4454-df07-8022a3c591cb"
      },
      "source": [
        "# Plotting data\n",
        "colombia_by_country_pandas.plot.bar(figsize=(10,6)).legend([\"Cases\"])\n",
        "plt.title('Top 10 of Country of origin')\n",
        "plt.show()"
      ],
      "execution_count": 29,
      "outputs": [
        {
          "output_type": "display_data",
          "data": {
            "image/png": "[encoded data removed]",
            "text/plain": [
              "<Figure size 720x432 with 1 Axes>"
            ]
          },
          "metadata": {
            "tags": [],
            "needs_background": "light"
          }
        }
      ]
    },
    {
      "cell_type": "markdown",
      "metadata": {
        "id": "69an2xr4DJwB",
        "colab_type": "text"
      },
      "source": [
        "## By Gender"
      ]
    },
    {
      "cell_type": "code",
      "metadata": {
        "id": "0MsdmNWjEXDx",
        "colab_type": "code",
        "colab": {
          "base_uri": "https://localhost:8080/",
          "height": 425
        },
        "outputId": "9eaa415a-cb9f-4e28-ba08-9f7fdb761711"
      },
      "source": [
        "colombia_by_sex = colombia.groupBy('sexo').count().orderBy('count', ascending=False)\n",
        "colombia_by_sex.show(10)\n",
        "\n",
        "# Dataframe to pandas\n",
        "colombia_by_sex_pandas = colombia_by_sex.toPandas()[:2]\n",
        "colombia_by_sex_pandas.set_index(\"sexo\", inplace = True)\n",
        "\n",
        "colombia_by_sex2 = colombia.filter(colombia['Fecha recuperado']!='-   -').groupBy('sexo').count().orderBy('count', ascending=False)\n",
        "colombia_by_sex2.show(10)\n",
        "\n",
        "# Dataframe to pandas\n",
        "colombia_by_sex2_pandas = colombia_by_sex2.toPandas()[:2]\n",
        "colombia_by_sex2_pandas.set_index(\"sexo\", inplace = True)\n",
        "\n",
        "colombia_by_sex3 = colombia.filter(colombia['Fecha de muerte']!='-   -').groupBy('sexo').count().orderBy('count', ascending=False)\n",
        "colombia_by_sex3.show(10)\n",
        "\n",
        "# Dataframe to pandas\n",
        "colombia_by_sex3_pandas = colombia_by_sex3.toPandas()[:2]\n",
        "colombia_by_sex3_pandas.set_index(\"sexo\", inplace = True)"
      ],
      "execution_count": 30,
      "outputs": [
        {
          "output_type": "stream",
          "text": [
            "+----+-----+\n",
            "|sexo|count|\n",
            "+----+-----+\n",
            "|   M| 6962|\n",
            "|   F| 5306|\n",
            "|   f|    3|\n",
            "|   m|    1|\n",
            "+----+-----+\n",
            "\n",
            "+----+-----+\n",
            "|sexo|count|\n",
            "+----+-----+\n",
            "|   F| 1511|\n",
            "|   M| 1459|\n",
            "|   m|    1|\n",
            "+----+-----+\n",
            "\n",
            "+----+-----+\n",
            "|sexo|count|\n",
            "+----+-----+\n",
            "|   M|  305|\n",
            "|   F|  194|\n",
            "+----+-----+\n",
            "\n"
          ],
          "name": "stdout"
        }
      ]
    },
    {
      "cell_type": "code",
      "metadata": {
        "id": "3yOzqpB9F0UT",
        "colab_type": "code",
        "colab": {
          "base_uri": "https://localhost:8080/",
          "height": 142
        },
        "outputId": "cb36515f-fea0-4528-e875-d80cc587cff7"
      },
      "source": [
        "colombia_by_sex_pandas_merge = pd.merge(colombia_by_sex_pandas, colombia_by_sex2_pandas, left_index=True, right_index=True)\n",
        "colombia_by_sex_pandas_merge = pd.merge(colombia_by_sex_pandas_merge, colombia_by_sex3_pandas, left_index=True, right_index=True)\n",
        "colombia_by_sex_pandas_merge"
      ],
      "execution_count": 31,
      "outputs": [
        {
          "output_type": "execute_result",
          "data": {
            "text/html": [
              "<div>\n",
              "<style scoped>\n",
              "    .dataframe tbody tr th:only-of-type {\n",
              "        vertical-align: middle;\n",
              "    }\n",
              "\n",
              "    .dataframe tbody tr th {\n",
              "        vertical-align: top;\n",
              "    }\n",
              "\n",
              "    .dataframe thead th {\n",
              "        text-align: right;\n",
              "    }\n",
              "</style>\n",
              "<table border=\"1\" class=\"dataframe\">\n",
              "  <thead>\n",
              "    <tr style=\"text-align: right;\">\n",
              "      <th></th>\n",
              "      <th>count_x</th>\n",
              "      <th>count_y</th>\n",
              "      <th>count</th>\n",
              "    </tr>\n",
              "    <tr>\n",
              "      <th>sexo</th>\n",
              "      <th></th>\n",
              "      <th></th>\n",
              "      <th></th>\n",
              "    </tr>\n",
              "  </thead>\n",
              "  <tbody>\n",
              "    <tr>\n",
              "      <th>M</th>\n",
              "      <td>6962</td>\n",
              "      <td>1459</td>\n",
              "      <td>305</td>\n",
              "    </tr>\n",
              "    <tr>\n",
              "      <th>F</th>\n",
              "      <td>5306</td>\n",
              "      <td>1511</td>\n",
              "      <td>194</td>\n",
              "    </tr>\n",
              "  </tbody>\n",
              "</table>\n",
              "</div>"
            ],
            "text/plain": [
              "      count_x  count_y  count\n",
              "sexo                         \n",
              "M        6962     1459    305\n",
              "F        5306     1511    194"
            ]
          },
          "metadata": {
            "tags": []
          },
          "execution_count": 31
        }
      ]
    },
    {
      "cell_type": "code",
      "metadata": {
        "id": "SMw7syv9GWqE",
        "colab_type": "code",
        "colab": {
          "base_uri": "https://localhost:8080/",
          "height": 403
        },
        "outputId": "0b49e134-1dc0-47c3-fad6-c8d6fe7f66e1"
      },
      "source": [
        "# Plotting data\n",
        "colombia_by_sex_pandas_merge.plot.bar(figsize=(10,6)).legend([\"Comfirmed cases\", \"Recovered\", \"Dead\"])\n",
        "plt.title('Cases by sex')\n",
        "plt.show()"
      ],
      "execution_count": 32,
      "outputs": [
        {
          "output_type": "display_data",
          "data": {
            "image/png": "[encoded data removed]",
            "text/plain": [
              "<Figure size 720x432 with 1 Axes>"
            ]
          },
          "metadata": {
            "tags": [],
            "needs_background": "light"
          }
        }
      ]
    }
  ]
}