{
  "cells": [
    {
      "cell_type": "code",
      "metadata": {
        "id": "a34bEdYtaWih",
        "colab_type": "code",
        "colab": {
          "base_uri": "https://localhost:8080/",
          "height": 34
        },
        "outputId": "9c95586e-19db-4492-9727-38439c397045"
      },
      "source": [
        "# Load csv Dataset \n",
        "df = spark.read.csv('s3://ssotombigdata/datasets/spark/Casos_positivos_de_COVID-19_en_Colombia.csv', inferSchema=True, header=True)\n",
        "\n",
        "print(\"Casos confirmados:\", df.count())"
      ],
      "execution_count": 4,
      "outputs": [
        {
          "output_type": "stream",
          "text": [
            "Casos confirmados: 6211\n"
          ],
          "name": "stdout"
        }
      ]
    },
    {
      "cell_type": "code",
      "metadata": {
        "id": "0i34tZwMfGa0",
        "colab_type": "code",
        "colab": {
          "base_uri": "https://localhost:8080/",
          "height": 323
        },
        "outputId": "06490a1a-adbb-4583-8914-eab60a0d17d6"
      },
      "source": [
        "#printSchema\n",
        "df.printSchema()"
      ],
      "execution_count": 5,
      "outputs": [
        {
          "output_type": "stream",
          "text": [
            "root\n",
            " |-- ID de caso: integer (nullable = true)\n",
            " |-- Fecha de notificación: timestamp (nullable = true)\n",
            " |-- Codigo DIVIPOLA: integer (nullable = true)\n",
            " |-- Ciudad de ubicación: string (nullable = true)\n",
            " |-- Departamento o Distrito : string (nullable = true)\n",
            " |-- atención: string (nullable = true)\n",
            " |-- Edad: integer (nullable = true)\n",
            " |-- Sexo: string (nullable = true)\n",
            " |-- Tipo: string (nullable = true)\n",
            " |-- Estado: string (nullable = true)\n",
            " |-- País de procedencia: string (nullable = true)\n",
            " |-- FIS: string (nullable = true)\n",
            " |-- Fecha de muerte: string (nullable = true)\n",
            " |-- Fecha diagnostico: timestamp (nullable = true)\n",
            " |-- Fecha recuperado: string (nullable = true)\n",
            " |-- fecha reporte web: timestamp (nullable = true)\n",
            "\n"
          ],
          "name": "stdout"
        }
      ]
    },
    {
      "cell_type": "code",
      "metadata": {
        "id": "ABOvxZElgv2p",
        "colab_type": "code",
        "colab": {
          "base_uri": "https://localhost:8080/",
          "height": 272
        },
        "outputId": "b5d6787e-5b0d-4d54-8cc6-4c87c84e4f09"
      },
      "source": [
        "#drop some columns\n",
        "df = df.drop('Codigo DIVIPOLA', 'FIS', 'fecha reporte web');\n",
        "#printSchema\n",
        "df.printSchema()"
      ],
      "execution_count": 6,
      "outputs": [
        {
          "output_type": "stream",
          "text": [
            "root\n",
            " |-- ID de caso: integer (nullable = true)\n",
            " |-- Fecha de notificación: timestamp (nullable = true)\n",
            " |-- Ciudad de ubicación: string (nullable = true)\n",
            " |-- Departamento o Distrito : string (nullable = true)\n",
            " |-- atención: string (nullable = true)\n",
            " |-- Edad: integer (nullable = true)\n",
            " |-- Sexo: string (nullable = true)\n",
            " |-- Tipo: string (nullable = true)\n",
            " |-- Estado: string (nullable = true)\n",
            " |-- País de procedencia: string (nullable = true)\n",
            " |-- Fecha de muerte: string (nullable = true)\n",
            " |-- Fecha diagnostico: timestamp (nullable = true)\n",
            " |-- Fecha recuperado: string (nullable = true)\n",
            "\n"
          ],
          "name": "stdout"
        }
      ]
    },
    {
      "cell_type": "code",
      "metadata": {
        "id": "Prkx-isidcml",
        "colab_type": "code",
        "colab": {
          "base_uri": "https://localhost:8080/",
          "height": 476
        },
        "outputId": "d26eab43-b133-41ba-e6a1-684cf21e20fd"
      },
      "source": [
        "#filter the multiple conditions\n",
        "print(\"Recuperados en Medellín\")\n",
        "df.filter((df['Ciudad de ubicación']=='Medellín')&(df['atención']=='Recuperado')).select('ID de caso', 'Edad', 'Fecha recuperado', 'País de procedencia').show()"
      ],
      "execution_count": 7,
      "outputs": [
        {
          "output_type": "stream",
          "text": [
            "Recuperados en Medellín\n",
            "+----------+----+--------------------+--------------------+\n",
            "|ID de caso|Edad|    Fecha recuperado| País de procedencia|\n",
            "+----------+----+--------------------+--------------------+\n",
            "|         3|  50|2020-03-15T00:00:...|              España|\n",
            "|         4|  55|2020-03-26T00:00:...|            Colombia|\n",
            "|         5|  25|2020-03-23T00:00:...|            Colombia|\n",
            "|        20|  26|2020-03-24T00:00:...|            Colombia|\n",
            "|        21|  28|2020-04-10T00:00:...|            Colombia|\n",
            "|        32|  55|2020-03-25T00:00:...|              España|\n",
            "|       106|  44|2020-03-28T00:00:...|              España|\n",
            "|       107|  56|2020-03-30T00:00:...|              España|\n",
            "|       108|  57|2020-03-28T00:00:...|              España|\n",
            "|       131|  22|2020-03-28T00:00:...|              España|\n",
            "|       135|  44|2020-04-01T00:00:...|            Alemania|\n",
            "|       136|  37|2020-04-13T00:00:...|            Colombia|\n",
            "|       141|  62|2020-03-25T00:00:...|             Croacia|\n",
            "|       142|  35|2020-03-29T00:00:...|              Panamá|\n",
            "|       145|  18|2020-04-04T00:00:...|            Colombia|\n",
            "|       198|  39|2020-03-31T00:00:...|              España|\n",
            "|       237|  32|2020-04-09T00:00:...|              España|\n",
            "|       263|  59|2020-03-30T00:00:...|              España|\n",
            "|       267|  21|2020-04-11T00:00:...|Estados Unidos de...|\n",
            "|       271|  21|2020-03-29T00:00:...|              España|\n",
            "+----------+----+--------------------+--------------------+\n",
            "only showing top 20 rows\n",
            "\n"
          ],
          "name": "stdout"
        }
      ]
    },
    {
      "cell_type": "code",
      "metadata": {
        "id": "DIq_WjS2gkSD",
        "colab_type": "code",
        "colab": {
          "base_uri": "https://localhost:8080/",
          "height": 306
        },
        "outputId": "097224c5-9a78-4d92-fe67-76f607e6f202"
      },
      "source": [
        "#group by\n",
        "print(\"Número de casos por departamento\")\n",
        "df.groupBy('Departamento o Distrito ').count().orderBy('count', ascending=False).show(10, False)"
      ],
      "execution_count": 8,
      "outputs": [
        {
          "output_type": "stream",
          "text": [
            "Número de casos por departamento\n",
            "+------------------------+-----+\n",
            "|Departamento o Distrito |count|\n",
            "+------------------------+-----+\n",
            "|Bogotá D.C.             |2543 |\n",
            "|Valle del Cauca         |877  |\n",
            "|Antioquia               |468  |\n",
            "|Meta                    |363  |\n",
            "|Cartagena D.T. y C.     |246  |\n",
            "|Cundinamarca            |219  |\n",
            "|Risaralda               |193  |\n",
            "|Barranquilla D.E.       |141  |\n",
            "|Santa Marta D.T. y C.   |139  |\n",
            "|Nariño                  |118  |\n",
            "+------------------------+-----+\n",
            "only showing top 10 rows\n",
            "\n"
          ],
          "name": "stdout"
        }
      ]
    },
    {
      "cell_type": "code",
      "metadata": {
        "id": "RiEzbklFivK6",
        "colab_type": "code",
        "colab": {}
      },
      "source": [
        "#target directory \n",
        "write_uri='s3://ssotombigdata/datasets/tmp/covid_out'"
      ],
      "execution_count": 0,
      "outputs": []
    },
    {
      "cell_type": "code",
      "metadata": {
        "id": "my3SXUZ3kDDi",
        "colab_type": "code",
        "colab": {}
      },
      "source": [
        "#save the dataframe as single csv \n",
        "df.coalesce(1).write.format(\"csv\").option(\"header\",\"true\").save(write_uri)"
      ],
      "execution_count": 0,
      "outputs": []
    }
  ],
  "metadata": {
    "colab": {
      "name": "Untitled6.ipynb",
      "provenance": [],
      "collapsed_sections": []
    },
    "kernelspec": {
      "name": "python3",
      "display_name": "Python 3"
    }
  },
  "nbformat": 4,
  "nbformat_minor": 0
}